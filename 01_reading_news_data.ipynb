{
 "cells": [
  {
   "cell_type": "markdown",
   "metadata": {},
   "source": [
    "# Reading News Data"
   ]
  },
  {
   "cell_type": "code",
   "execution_count": 1,
   "metadata": {},
   "outputs": [],
   "source": [
    "import pandas as pd\n",
    "import pickle"
   ]
  },
  {
   "cell_type": "markdown",
   "metadata": {},
   "source": [
    "### Read the News Articles"
   ]
  },
  {
   "cell_type": "code",
   "execution_count": 2,
   "metadata": {},
   "outputs": [],
   "source": [
    "article1 = pd.read_csv('data/articles1.csv') #50,000 news articles\n",
    "article2 = pd.read_csv('data/articles2.csv') #49,999 news articles\n",
    "article3 = pd.read_csv('data/articles3.csv') #42,571 news articles"
   ]
  },
  {
   "cell_type": "code",
   "execution_count": 3,
   "metadata": {},
   "outputs": [
    {
     "name": "stdout",
     "output_type": "stream",
     "text": [
      "142570\n"
     ]
    }
   ],
   "source": [
    "# Total News\n",
    "len1 = len(article1)\n",
    "len2 = len(article2)\n",
    "len3 = len(article3)\n",
    "print(len1+len2+len3)"
   ]
  },
  {
   "cell_type": "markdown",
   "metadata": {},
   "source": [
    "### Merge the News Articles"
   ]
  },
  {
   "cell_type": "code",
   "execution_count": 4,
   "metadata": {},
   "outputs": [
    {
     "data": {
      "text/plain": [
       "142570"
      ]
     },
     "execution_count": 4,
     "metadata": {},
     "output_type": "execute_result"
    }
   ],
   "source": [
    "data1 = pd.DataFrame(article1)\n",
    "data2 = pd.DataFrame(article2)\n",
    "data3 = pd.DataFrame(article3)\n",
    "data = [data1, data2, data3]\n",
    "news_data = pd.concat(data)\n",
    "len(news_data)"
   ]
  },
  {
   "cell_type": "markdown",
   "metadata": {},
   "source": [
    "### News Articles (142570)"
   ]
  },
  {
   "cell_type": "code",
   "execution_count": 5,
   "metadata": {},
   "outputs": [
    {
     "data": {
      "text/html": [
       "<div>\n",
       "<style scoped>\n",
       "    .dataframe tbody tr th:only-of-type {\n",
       "        vertical-align: middle;\n",
       "    }\n",
       "\n",
       "    .dataframe tbody tr th {\n",
       "        vertical-align: top;\n",
       "    }\n",
       "\n",
       "    .dataframe thead th {\n",
       "        text-align: right;\n",
       "    }\n",
       "</style>\n",
       "<table border=\"1\" class=\"dataframe\">\n",
       "  <thead>\n",
       "    <tr style=\"text-align: right;\">\n",
       "      <th></th>\n",
       "      <th>Unnamed: 0</th>\n",
       "      <th>id</th>\n",
       "      <th>title</th>\n",
       "      <th>publication</th>\n",
       "      <th>author</th>\n",
       "      <th>date</th>\n",
       "      <th>year</th>\n",
       "      <th>month</th>\n",
       "      <th>url</th>\n",
       "      <th>content</th>\n",
       "    </tr>\n",
       "  </thead>\n",
       "  <tbody>\n",
       "    <tr>\n",
       "      <th>0</th>\n",
       "      <td>0</td>\n",
       "      <td>17283</td>\n",
       "      <td>House Republicans Fret About Winning Their Hea...</td>\n",
       "      <td>New York Times</td>\n",
       "      <td>Carl Hulse</td>\n",
       "      <td>2016-12-31</td>\n",
       "      <td>2016.0</td>\n",
       "      <td>12.0</td>\n",
       "      <td>NaN</td>\n",
       "      <td>WASHINGTON  —   Congressional Republicans have...</td>\n",
       "    </tr>\n",
       "    <tr>\n",
       "      <th>1</th>\n",
       "      <td>1</td>\n",
       "      <td>17284</td>\n",
       "      <td>Rift Between Officers and Residents as Killing...</td>\n",
       "      <td>New York Times</td>\n",
       "      <td>Benjamin Mueller and Al Baker</td>\n",
       "      <td>2017-06-19</td>\n",
       "      <td>2017.0</td>\n",
       "      <td>6.0</td>\n",
       "      <td>NaN</td>\n",
       "      <td>After the bullet shells get counted, the blood...</td>\n",
       "    </tr>\n",
       "    <tr>\n",
       "      <th>2</th>\n",
       "      <td>2</td>\n",
       "      <td>17285</td>\n",
       "      <td>Tyrus Wong, ‘Bambi’ Artist Thwarted by Racial ...</td>\n",
       "      <td>New York Times</td>\n",
       "      <td>Margalit Fox</td>\n",
       "      <td>2017-01-06</td>\n",
       "      <td>2017.0</td>\n",
       "      <td>1.0</td>\n",
       "      <td>NaN</td>\n",
       "      <td>When Walt Disney’s “Bambi” opened in 1942, cri...</td>\n",
       "    </tr>\n",
       "    <tr>\n",
       "      <th>3</th>\n",
       "      <td>3</td>\n",
       "      <td>17286</td>\n",
       "      <td>Among Deaths in 2016, a Heavy Toll in Pop Musi...</td>\n",
       "      <td>New York Times</td>\n",
       "      <td>William McDonald</td>\n",
       "      <td>2017-04-10</td>\n",
       "      <td>2017.0</td>\n",
       "      <td>4.0</td>\n",
       "      <td>NaN</td>\n",
       "      <td>Death may be the great equalizer, but it isn’t...</td>\n",
       "    </tr>\n",
       "    <tr>\n",
       "      <th>4</th>\n",
       "      <td>4</td>\n",
       "      <td>17287</td>\n",
       "      <td>Kim Jong-un Says North Korea Is Preparing to T...</td>\n",
       "      <td>New York Times</td>\n",
       "      <td>Choe Sang-Hun</td>\n",
       "      <td>2017-01-02</td>\n",
       "      <td>2017.0</td>\n",
       "      <td>1.0</td>\n",
       "      <td>NaN</td>\n",
       "      <td>SEOUL, South Korea  —   North Korea’s leader, ...</td>\n",
       "    </tr>\n",
       "    <tr>\n",
       "      <th>...</th>\n",
       "      <td>...</td>\n",
       "      <td>...</td>\n",
       "      <td>...</td>\n",
       "      <td>...</td>\n",
       "      <td>...</td>\n",
       "      <td>...</td>\n",
       "      <td>...</td>\n",
       "      <td>...</td>\n",
       "      <td>...</td>\n",
       "      <td>...</td>\n",
       "    </tr>\n",
       "    <tr>\n",
       "      <th>42566</th>\n",
       "      <td>146028</td>\n",
       "      <td>218078</td>\n",
       "      <td>An eavesdropping Uber driver saved his 16-year...</td>\n",
       "      <td>Washington Post</td>\n",
       "      <td>Avi Selk</td>\n",
       "      <td>2016-12-30</td>\n",
       "      <td>2016.0</td>\n",
       "      <td>12.0</td>\n",
       "      <td>https://web.archive.org/web/20161231004909/htt...</td>\n",
       "      <td>Uber driver Keith Avila picked up a p...</td>\n",
       "    </tr>\n",
       "    <tr>\n",
       "      <th>42567</th>\n",
       "      <td>146029</td>\n",
       "      <td>218079</td>\n",
       "      <td>Plane carrying six people returning from a Cav...</td>\n",
       "      <td>Washington Post</td>\n",
       "      <td>Sarah Larimer</td>\n",
       "      <td>2016-12-30</td>\n",
       "      <td>2016.0</td>\n",
       "      <td>12.0</td>\n",
       "      <td>https://web.archive.org/web/20161231004909/htt...</td>\n",
       "      <td>Crews on Friday continued to search L...</td>\n",
       "    </tr>\n",
       "    <tr>\n",
       "      <th>42568</th>\n",
       "      <td>146030</td>\n",
       "      <td>218080</td>\n",
       "      <td>After helping a fraction of homeowners expecte...</td>\n",
       "      <td>Washington Post</td>\n",
       "      <td>Renae Merle</td>\n",
       "      <td>2016-12-30</td>\n",
       "      <td>2016.0</td>\n",
       "      <td>12.0</td>\n",
       "      <td>https://web.archive.org/web/20161231004909/htt...</td>\n",
       "      <td>When the Obama administration announced a...</td>\n",
       "    </tr>\n",
       "    <tr>\n",
       "      <th>42569</th>\n",
       "      <td>146031</td>\n",
       "      <td>218081</td>\n",
       "      <td>Yes, this is real: Michigan just banned bannin...</td>\n",
       "      <td>Washington Post</td>\n",
       "      <td>Chelsea Harvey</td>\n",
       "      <td>2016-12-30</td>\n",
       "      <td>2016.0</td>\n",
       "      <td>12.0</td>\n",
       "      <td>https://web.archive.org/web/20161231004909/htt...</td>\n",
       "      <td>This story has been updated. A new law in...</td>\n",
       "    </tr>\n",
       "    <tr>\n",
       "      <th>42570</th>\n",
       "      <td>146032</td>\n",
       "      <td>218082</td>\n",
       "      <td>What happened in Washington state after voters...</td>\n",
       "      <td>Washington Post</td>\n",
       "      <td>Christopher Ingraham</td>\n",
       "      <td>2016-12-29</td>\n",
       "      <td>2016.0</td>\n",
       "      <td>12.0</td>\n",
       "      <td>https://web.archive.org/web/20161231004909/htt...</td>\n",
       "      <td>The nation’s first recreational marijuana...</td>\n",
       "    </tr>\n",
       "  </tbody>\n",
       "</table>\n",
       "<p>142570 rows × 10 columns</p>\n",
       "</div>"
      ],
      "text/plain": [
       "       Unnamed: 0      id                                              title  \\\n",
       "0               0   17283  House Republicans Fret About Winning Their Hea...   \n",
       "1               1   17284  Rift Between Officers and Residents as Killing...   \n",
       "2               2   17285  Tyrus Wong, ‘Bambi’ Artist Thwarted by Racial ...   \n",
       "3               3   17286  Among Deaths in 2016, a Heavy Toll in Pop Musi...   \n",
       "4               4   17287  Kim Jong-un Says North Korea Is Preparing to T...   \n",
       "...           ...     ...                                                ...   \n",
       "42566      146028  218078  An eavesdropping Uber driver saved his 16-year...   \n",
       "42567      146029  218079  Plane carrying six people returning from a Cav...   \n",
       "42568      146030  218080  After helping a fraction of homeowners expecte...   \n",
       "42569      146031  218081  Yes, this is real: Michigan just banned bannin...   \n",
       "42570      146032  218082  What happened in Washington state after voters...   \n",
       "\n",
       "           publication                         author        date    year  \\\n",
       "0       New York Times                     Carl Hulse  2016-12-31  2016.0   \n",
       "1       New York Times  Benjamin Mueller and Al Baker  2017-06-19  2017.0   \n",
       "2       New York Times                   Margalit Fox  2017-01-06  2017.0   \n",
       "3       New York Times               William McDonald  2017-04-10  2017.0   \n",
       "4       New York Times                  Choe Sang-Hun  2017-01-02  2017.0   \n",
       "...                ...                            ...         ...     ...   \n",
       "42566  Washington Post                       Avi Selk  2016-12-30  2016.0   \n",
       "42567  Washington Post                  Sarah Larimer  2016-12-30  2016.0   \n",
       "42568  Washington Post                    Renae Merle  2016-12-30  2016.0   \n",
       "42569  Washington Post                 Chelsea Harvey  2016-12-30  2016.0   \n",
       "42570  Washington Post           Christopher Ingraham  2016-12-29  2016.0   \n",
       "\n",
       "       month                                                url  \\\n",
       "0       12.0                                                NaN   \n",
       "1        6.0                                                NaN   \n",
       "2        1.0                                                NaN   \n",
       "3        4.0                                                NaN   \n",
       "4        1.0                                                NaN   \n",
       "...      ...                                                ...   \n",
       "42566   12.0  https://web.archive.org/web/20161231004909/htt...   \n",
       "42567   12.0  https://web.archive.org/web/20161231004909/htt...   \n",
       "42568   12.0  https://web.archive.org/web/20161231004909/htt...   \n",
       "42569   12.0  https://web.archive.org/web/20161231004909/htt...   \n",
       "42570   12.0  https://web.archive.org/web/20161231004909/htt...   \n",
       "\n",
       "                                                 content  \n",
       "0      WASHINGTON  —   Congressional Republicans have...  \n",
       "1      After the bullet shells get counted, the blood...  \n",
       "2      When Walt Disney’s “Bambi” opened in 1942, cri...  \n",
       "3      Death may be the great equalizer, but it isn’t...  \n",
       "4      SEOUL, South Korea  —   North Korea’s leader, ...  \n",
       "...                                                  ...  \n",
       "42566           Uber driver Keith Avila picked up a p...  \n",
       "42567           Crews on Friday continued to search L...  \n",
       "42568       When the Obama administration announced a...  \n",
       "42569       This story has been updated. A new law in...  \n",
       "42570       The nation’s first recreational marijuana...  \n",
       "\n",
       "[142570 rows x 10 columns]"
      ]
     },
     "execution_count": 5,
     "metadata": {},
     "output_type": "execute_result"
    }
   ],
   "source": [
    "news_data"
   ]
  },
  {
   "cell_type": "code",
   "execution_count": 6,
   "metadata": {},
   "outputs": [
    {
     "data": {
      "text/plain": [
       "Index(['Unnamed: 0', 'id', 'title', 'publication', 'author', 'date', 'year',\n",
       "       'month', 'url', 'content'],\n",
       "      dtype='object')"
      ]
     },
     "execution_count": 6,
     "metadata": {},
     "output_type": "execute_result"
    }
   ],
   "source": [
    "# Columns of news_data (DataFrame)\n",
    "news_data.keys()"
   ]
  },
  {
   "cell_type": "code",
   "execution_count": 7,
   "metadata": {},
   "outputs": [
    {
     "data": {
      "text/html": [
       "<div>\n",
       "<style scoped>\n",
       "    .dataframe tbody tr th:only-of-type {\n",
       "        vertical-align: middle;\n",
       "    }\n",
       "\n",
       "    .dataframe tbody tr th {\n",
       "        vertical-align: top;\n",
       "    }\n",
       "\n",
       "    .dataframe thead th {\n",
       "        text-align: right;\n",
       "    }\n",
       "</style>\n",
       "<table border=\"1\" class=\"dataframe\">\n",
       "  <thead>\n",
       "    <tr style=\"text-align: right;\">\n",
       "      <th></th>\n",
       "      <th>title</th>\n",
       "      <th>content</th>\n",
       "    </tr>\n",
       "  </thead>\n",
       "  <tbody>\n",
       "    <tr>\n",
       "      <th>0</th>\n",
       "      <td>House Republicans Fret About Winning Their Hea...</td>\n",
       "      <td>WASHINGTON  —   Congressional Republicans have...</td>\n",
       "    </tr>\n",
       "    <tr>\n",
       "      <th>1</th>\n",
       "      <td>Rift Between Officers and Residents as Killing...</td>\n",
       "      <td>After the bullet shells get counted, the blood...</td>\n",
       "    </tr>\n",
       "    <tr>\n",
       "      <th>2</th>\n",
       "      <td>Tyrus Wong, ‘Bambi’ Artist Thwarted by Racial ...</td>\n",
       "      <td>When Walt Disney’s “Bambi” opened in 1942, cri...</td>\n",
       "    </tr>\n",
       "    <tr>\n",
       "      <th>3</th>\n",
       "      <td>Among Deaths in 2016, a Heavy Toll in Pop Musi...</td>\n",
       "      <td>Death may be the great equalizer, but it isn’t...</td>\n",
       "    </tr>\n",
       "    <tr>\n",
       "      <th>4</th>\n",
       "      <td>Kim Jong-un Says North Korea Is Preparing to T...</td>\n",
       "      <td>SEOUL, South Korea  —   North Korea’s leader, ...</td>\n",
       "    </tr>\n",
       "    <tr>\n",
       "      <th>...</th>\n",
       "      <td>...</td>\n",
       "      <td>...</td>\n",
       "    </tr>\n",
       "    <tr>\n",
       "      <th>42566</th>\n",
       "      <td>An eavesdropping Uber driver saved his 16-year...</td>\n",
       "      <td>Uber driver Keith Avila picked up a p...</td>\n",
       "    </tr>\n",
       "    <tr>\n",
       "      <th>42567</th>\n",
       "      <td>Plane carrying six people returning from a Cav...</td>\n",
       "      <td>Crews on Friday continued to search L...</td>\n",
       "    </tr>\n",
       "    <tr>\n",
       "      <th>42568</th>\n",
       "      <td>After helping a fraction of homeowners expecte...</td>\n",
       "      <td>When the Obama administration announced a...</td>\n",
       "    </tr>\n",
       "    <tr>\n",
       "      <th>42569</th>\n",
       "      <td>Yes, this is real: Michigan just banned bannin...</td>\n",
       "      <td>This story has been updated. A new law in...</td>\n",
       "    </tr>\n",
       "    <tr>\n",
       "      <th>42570</th>\n",
       "      <td>What happened in Washington state after voters...</td>\n",
       "      <td>The nation’s first recreational marijuana...</td>\n",
       "    </tr>\n",
       "  </tbody>\n",
       "</table>\n",
       "<p>142570 rows × 2 columns</p>\n",
       "</div>"
      ],
      "text/plain": [
       "                                                   title  \\\n",
       "0      House Republicans Fret About Winning Their Hea...   \n",
       "1      Rift Between Officers and Residents as Killing...   \n",
       "2      Tyrus Wong, ‘Bambi’ Artist Thwarted by Racial ...   \n",
       "3      Among Deaths in 2016, a Heavy Toll in Pop Musi...   \n",
       "4      Kim Jong-un Says North Korea Is Preparing to T...   \n",
       "...                                                  ...   \n",
       "42566  An eavesdropping Uber driver saved his 16-year...   \n",
       "42567  Plane carrying six people returning from a Cav...   \n",
       "42568  After helping a fraction of homeowners expecte...   \n",
       "42569  Yes, this is real: Michigan just banned bannin...   \n",
       "42570  What happened in Washington state after voters...   \n",
       "\n",
       "                                                 content  \n",
       "0      WASHINGTON  —   Congressional Republicans have...  \n",
       "1      After the bullet shells get counted, the blood...  \n",
       "2      When Walt Disney’s “Bambi” opened in 1942, cri...  \n",
       "3      Death may be the great equalizer, but it isn’t...  \n",
       "4      SEOUL, South Korea  —   North Korea’s leader, ...  \n",
       "...                                                  ...  \n",
       "42566           Uber driver Keith Avila picked up a p...  \n",
       "42567           Crews on Friday continued to search L...  \n",
       "42568       When the Obama administration announced a...  \n",
       "42569       This story has been updated. A new law in...  \n",
       "42570       The nation’s first recreational marijuana...  \n",
       "\n",
       "[142570 rows x 2 columns]"
      ]
     },
     "execution_count": 7,
     "metadata": {},
     "output_type": "execute_result"
    }
   ],
   "source": [
    "# Deleting columns of news_data (DataFrame)\n",
    "news_data.drop(columns=['Unnamed: 0', 'id', 'publication', 'author', 'date', 'year', 'month', 'url'], inplace=True)\n",
    "news_data"
   ]
  },
  {
   "cell_type": "markdown",
   "metadata": {},
   "source": [
    "### Dividing news_data into 10 diffrent sets"
   ]
  },
  {
   "cell_type": "code",
   "execution_count": 8,
   "metadata": {},
   "outputs": [],
   "source": [
    "# Storing '14257' news articles in each DataFrame\n",
    "news_data_0 = news_data[:14257]\n",
    "news_data_1 = news_data[14257:28514]\n",
    "news_data_2 = news_data[28514:42771]\n",
    "news_data_3 = news_data[42771:57028]\n",
    "news_data_4 = news_data[57028:71285]\n",
    "news_data_5 = news_data[71285:85542]\n",
    "news_data_6 = news_data[85542:99799]\n",
    "news_data_7 = news_data[99799:114056]\n",
    "news_data_8 = news_data[114056:128313]\n",
    "news_data_9 = news_data[128313:]"
   ]
  },
  {
   "cell_type": "markdown",
   "metadata": {},
   "source": [
    "### Saving the DataFrames for future use"
   ]
  },
  {
   "cell_type": "code",
   "execution_count": 9,
   "metadata": {},
   "outputs": [],
   "source": [
    "pickle.dump(news_data, open('pickle/news_data', 'wb'))      #       0  - 1,42,569\n",
    "pickle.dump(news_data_0, open('pickle/news_data_0', 'wb'))  #       0  -   14,256\n",
    "pickle.dump(news_data_1, open('pickle/news_data_1', 'wb'))  #  14,257  -   28,513\n",
    "pickle.dump(news_data_2, open('pickle/news_data_2', 'wb'))  #  28,514  -   42,770\n",
    "pickle.dump(news_data_3, open('pickle/news_data_3', 'wb'))  #  42,771  -   57,027\n",
    "pickle.dump(news_data_4, open('pickle/news_data_4', 'wb'))  #  57,028  -   71,284\n",
    "pickle.dump(news_data_5, open('pickle/news_data_5', 'wb'))  #  71,285  -   85,541\n",
    "pickle.dump(news_data_6, open('pickle/news_data_6', 'wb'))  #  85,542  -   99,798\n",
    "pickle.dump(news_data_7, open('pickle/news_data_7', 'wb'))  #  99,799  - 1,14,055\n",
    "pickle.dump(news_data_8, open('pickle/news_data_8', 'wb'))  # 1,14,056 - 1,28,312\n",
    "pickle.dump(news_data_9, open('pickle/news_data_9', 'wb'))  # 1,28,313 - 14,2,569"
   ]
  },
  {
   "cell_type": "code",
   "execution_count": null,
   "metadata": {},
   "outputs": [],
   "source": []
  }
 ],
 "metadata": {
  "kernelspec": {
   "display_name": "Python 3",
   "language": "python",
   "name": "python3"
  },
  "language_info": {
   "codemirror_mode": {
    "name": "ipython",
    "version": 3
   },
   "file_extension": ".py",
   "mimetype": "text/x-python",
   "name": "python",
   "nbconvert_exporter": "python",
   "pygments_lexer": "ipython3",
   "version": "3.7.6"
  }
 },
 "nbformat": 4,
 "nbformat_minor": 4
}
